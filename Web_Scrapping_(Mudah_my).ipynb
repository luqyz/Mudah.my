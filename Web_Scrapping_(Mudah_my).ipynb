{
  "nbformat": 4,
  "nbformat_minor": 0,
  "metadata": {
    "colab": {
      "provenance": [],
      "authorship_tag": "ABX9TyNzoBmJK7bFkqR0Bsl5vfAO",
      "include_colab_link": true
    },
    "kernelspec": {
      "name": "python3",
      "display_name": "Python 3"
    },
    "language_info": {
      "name": "python"
    }
  },
  "cells": [
    {
      "cell_type": "markdown",
      "metadata": {
        "id": "view-in-github",
        "colab_type": "text"
      },
      "source": [
        "<a href=\"https://colab.research.google.com/github/luqyz/Mudah.my/blob/main/Web_Scrapping_(Mudah_my).ipynb\" target=\"_parent\"><img src=\"https://colab.research.google.com/assets/colab-badge.svg\" alt=\"Open In Colab\"/></a>"
      ]
    },
    {
      "cell_type": "markdown",
      "source": [
        "Data Scraping"
      ],
      "metadata": {
        "id": "UWimlr9_O11J"
      }
    },
    {
      "cell_type": "code",
      "source": [
        "import requests\n",
        "from bs4 import BeautifulSoup\n",
        "import pandas as pd\n",
        "\n",
        "# URL of the page to scrape\n",
        "url = 'https://www.mudah.my/malaysia/cars-for-sale'\n",
        "\n",
        "# Send an HTTP GET request to the page\n",
        "headers = {\n",
        "    'User-Agent': 'Mozilla/5.0 (Windows NT 10.0; Win64; x64) AppleWebKit/537.36 (KHTML, like Gecko) Chrome/115.0 Safari/537.36'\n",
        "}\n",
        "response = requests.get(url, headers=headers)\n",
        "\n",
        "# Parse the HTML content with BeautifulSoup\n",
        "soup = BeautifulSoup(response.content, 'html.parser')\n",
        "\n",
        "# Scraping \"Region\" data\n",
        "region_elements = soup.find_all('span', {'title': 'Region'})\n",
        "regions = []\n",
        "for region in region_elements:\n",
        "    region_text = region.get_text(strip=True)\n",
        "    regions.append(region_text)  # Add to list\n",
        "\n",
        "# Scraping \"Condition\" data\n",
        "condition_elements = soup.find_all('div', title='Condition')\n",
        "conditions = []\n",
        "for element in condition_elements:\n",
        "    text = element.get_text(strip=True)  # Get text and remove extra spaces\n",
        "    conditions.append(text)  # Add to list\n",
        "\n",
        "# Create a DataFrame with both Condition and Region data\n",
        "df = pd.DataFrame({\n",
        "    \"Region\": regions,\n",
        "    \"Condition\": conditions,\n",
        "\n",
        "})\n",
        "\n",
        "# Display the combined DataFrame\n",
        "print(\"DataFrame:\")\n",
        "print(df)\n",
        "\n"
      ],
      "metadata": {
        "colab": {
          "base_uri": "https://localhost:8080/"
        },
        "id": "XPPj7BPEEbm6",
        "outputId": "323fc75f-b1df-47c7-d3d2-91e8503b8678"
      },
      "execution_count": null,
      "outputs": [
        {
          "output_type": "stream",
          "name": "stdout",
          "text": [
            "DataFrame:\n",
            "          Region Condition\n",
            "0       Selangor      Used\n",
            "1          Johor       New\n",
            "2          Johor       New\n",
            "3       Selangor      Used\n",
            "4   Kuala Lumpur      Used\n",
            "5   Kuala Lumpur      Used\n",
            "6   Kuala Lumpur      Used\n",
            "7   Kuala Lumpur      Used\n",
            "8   Kuala Lumpur     Recon\n",
            "9   Kuala Lumpur      Used\n",
            "10  Kuala Lumpur      Used\n",
            "11  Kuala Lumpur     Recon\n",
            "12      Selangor      Used\n",
            "13  Kuala Lumpur     Recon\n",
            "14      Selangor      Used\n",
            "15  Kuala Lumpur     Recon\n",
            "16      Selangor      Used\n",
            "17      Selangor     Recon\n",
            "18  Kuala Lumpur     Recon\n",
            "19      Selangor     Recon\n",
            "20      Selangor      Used\n",
            "21      Selangor      Used\n",
            "22      Selangor     Recon\n",
            "23      Selangor      Used\n",
            "24  Kuala Lumpur      Used\n",
            "25  Kuala Lumpur     Recon\n",
            "26      Selangor      Used\n",
            "27      Selangor      Used\n",
            "28        Pahang      Used\n",
            "29      Selangor      Used\n",
            "30         Sabah      Used\n",
            "31      Selangor      Used\n",
            "32      Selangor      Used\n",
            "33      Selangor      Used\n",
            "34  Kuala Lumpur      Used\n",
            "35      Selangor      Used\n",
            "36      Selangor      Used\n",
            "37      Selangor      Used\n",
            "38         Johor      Used\n",
            "39         Johor      Used\n"
          ]
        }
      ]
    },
    {
      "cell_type": "markdown",
      "source": [
        "Data Cleaning"
      ],
      "metadata": {
        "id": "Or0ugfdaO5Ud"
      }
    },
    {
      "cell_type": "code",
      "source": [
        "# 1. Data Formatting: Convert all text to lowercase\n",
        "df['Region'] = df['Region'].str.lower().str.strip()\n",
        "df['Condition'] = df['Condition'].str.lower().str.strip()\n",
        "print(df)"
      ],
      "metadata": {
        "colab": {
          "base_uri": "https://localhost:8080/"
        },
        "id": "KXBN5MKsOB7Y",
        "outputId": "1fd0db6b-23e0-48ac-dda9-170886f7a828"
      },
      "execution_count": null,
      "outputs": [
        {
          "output_type": "stream",
          "name": "stdout",
          "text": [
            "          Region Condition\n",
            "0       selangor      used\n",
            "1          johor       new\n",
            "2          johor       new\n",
            "3       selangor      used\n",
            "4   kuala lumpur      used\n",
            "5   kuala lumpur      used\n",
            "6   kuala lumpur      used\n",
            "7   kuala lumpur      used\n",
            "8   kuala lumpur     recon\n",
            "9   kuala lumpur      used\n",
            "10  kuala lumpur      used\n",
            "11  kuala lumpur     recon\n",
            "12      selangor      used\n",
            "13  kuala lumpur     recon\n",
            "14      selangor      used\n",
            "15  kuala lumpur     recon\n",
            "16      selangor      used\n",
            "17      selangor     recon\n",
            "18  kuala lumpur     recon\n",
            "19      selangor     recon\n",
            "20      selangor      used\n",
            "21      selangor      used\n",
            "22      selangor     recon\n",
            "23      selangor      used\n",
            "24  kuala lumpur      used\n",
            "25  kuala lumpur     recon\n",
            "26      selangor      used\n",
            "27      selangor      used\n",
            "28        pahang      used\n",
            "29      selangor      used\n",
            "30         sabah      used\n",
            "31      selangor      used\n",
            "32      selangor      used\n",
            "33      selangor      used\n",
            "34  kuala lumpur      used\n",
            "35      selangor      used\n",
            "36      selangor      used\n",
            "37      selangor      used\n",
            "38         johor      used\n",
            "39         johor      used\n"
          ]
        }
      ]
    },
    {
      "cell_type": "code",
      "source": [
        "# 2. Remove duplicates\n",
        "df_cleaned = df.drop_duplicates()\n",
        "\n",
        "# Display the cleaned DataFrame\n",
        "print(\"\\nCleaned DataFrame:\")\n",
        "print(df_cleaned)"
      ],
      "metadata": {
        "colab": {
          "base_uri": "https://localhost:8080/"
        },
        "id": "HSBWan85EsRd",
        "outputId": "8c4b351a-8d05-437b-86b5-9ed1175ff958"
      },
      "execution_count": null,
      "outputs": [
        {
          "output_type": "stream",
          "name": "stdout",
          "text": [
            "\n",
            "Cleaned DataFrame:\n",
            "          Region Condition\n",
            "0       selangor      used\n",
            "1          johor       new\n",
            "4   kuala lumpur      used\n",
            "8   kuala lumpur     recon\n",
            "17      selangor     recon\n",
            "28        pahang      used\n",
            "30         sabah      used\n",
            "38         johor      used\n"
          ]
        }
      ]
    },
    {
      "cell_type": "markdown",
      "source": [
        "Save the cleaned dataframe into .csv file"
      ],
      "metadata": {
        "id": "o9Sc0lVxO8v1"
      }
    },
    {
      "cell_type": "code",
      "source": [
        "# Save the cleaned DataFrame to a CSV file\n",
        "df_cleaned.to_csv('scraped_car_data_cleaned.csv', index=False)\n",
        "\n",
        "# Print confirmation\n",
        "print(\"\\nData saved to 'scraped_car_data_cleaned.csv'\")"
      ],
      "metadata": {
        "colab": {
          "base_uri": "https://localhost:8080/"
        },
        "id": "KwHRGp9oEtve",
        "outputId": "ea9880b9-d513-4542-b8eb-dfa6bb1ad09e"
      },
      "execution_count": null,
      "outputs": [
        {
          "output_type": "stream",
          "name": "stdout",
          "text": [
            "\n",
            "Data saved to 'scraped_car_data_cleaned.csv'\n"
          ]
        }
      ]
    }
  ]
}